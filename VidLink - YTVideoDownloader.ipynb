{
 "cells": [
  {
   "cell_type": "markdown",
   "metadata": {},
   "source": [
    "VidLink 1.0 [By Default - Get the highest Resolution]"
   ]
  },
  {
   "cell_type": "code",
   "execution_count": null,
   "metadata": {},
   "outputs": [],
   "source": [
    "from pytube import YouTube\n",
    "\n",
    "link = input(\"Enter the video link: \")\n",
    "print(\"Downloading.....\")\n",
    "\n",
    "# Create a YouTube object\n",
    "yt = YouTube(link)\n",
    "\n",
    "# Get the highest resolution stream\n",
    "video_stream = yt.streams.get_highest_resolution()\n",
    "\n",
    "# Download the video\n",
    "video_stream.download()\n",
    "\n",
    "print(\"Download Successful\")"
   ]
  },
  {
   "cell_type": "markdown",
   "metadata": {},
   "source": [
    "VidLink 1.1 [Ask the user about their desired video quality]"
   ]
  },
  {
   "cell_type": "code",
   "execution_count": null,
   "metadata": {},
   "outputs": [],
   "source": [
    "# Import the necessary module\n",
    "from pytube import YouTube\n",
    "\n",
    "def display_streams(streams):\n",
    "    print(\"\\nAvailable video quality options:\")\n",
    "    for i, stream in enumerate(streams, start=1):\n",
    "        print(f\"{i}. Resolution: {stream.resolution}, Format: {stream.mime_type}\")\n",
    "\n",
    "def main():\n",
    "    # Prompt the user to input the video link\n",
    "    link = input(\"Enter the video link: \")\n",
    "\n",
    "    # Create a YouTube object using the provided link\n",
    "    yt = YouTube(link)\n",
    "\n",
    "    # Inform the user about the available streams\n",
    "    print(\"Fetching available streams.....\")\n",
    "    #print(yt.streams)\n",
    "    streams = yt.streams.filter(file_extension=\"mp4\").order_by(\"resolution\")\n",
    "    display_streams(streams)\n",
    "\n",
    "    # Ask the user about their desired video quality\n",
    "    choice = int(input(\"Enter the number corresponding to your desired video quality: \"))\n",
    "    selected_stream = streams[choice - 1]\n",
    "\n",
    "    # Inform the user that the download is in progress\n",
    "    print(\"\\nDownloading video: \" + yt.title)\n",
    "    print(\"\\nDownloading.....\")\n",
    "\n",
    "    # Download the video to the current working directory\n",
    "    selected_stream.download()\n",
    "\n",
    "    # Get the highest resolution stream available for the video\n",
    "    # video_stream = yt.streams.get_highest_resolution()\n",
    "\n",
    "    # Inform the user that the download is successful\n",
    "    print(\"\\nDownload Successful\")\n",
    "\n",
    "if __name__ == \"__main__\":\n",
    "    main()"
   ]
  }
 ],
 "metadata": {
  "kernelspec": {
   "display_name": "Python 3",
   "language": "python",
   "name": "python3"
  },
  "language_info": {
   "codemirror_mode": {
    "name": "ipython",
    "version": 3
   },
   "file_extension": ".py",
   "mimetype": "text/x-python",
   "name": "python",
   "nbconvert_exporter": "python",
   "pygments_lexer": "ipython3",
   "version": "3.11.4"
  },
  "orig_nbformat": 4
 },
 "nbformat": 4,
 "nbformat_minor": 2
}
